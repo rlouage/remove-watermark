{
 "cells": [
  {
   "cell_type": "code",
   "execution_count": 1,
   "id": "89f855e8",
   "metadata": {},
   "outputs": [],
   "source": [
    "import cv2\n",
    "import os\n",
    "import matplotlib.pyplot as plt\n",
    "import numpy as np\n",
    "from tqdm import tqdm"
   ]
  },
  {
   "cell_type": "code",
   "execution_count": 2,
   "id": "b6e33f28",
   "metadata": {},
   "outputs": [],
   "source": [
    "imgdir = \"images/watermarkdataset\""
   ]
  },
  {
   "cell_type": "code",
   "execution_count": 3,
   "id": "2e78cc32",
   "metadata": {},
   "outputs": [
    {
     "name": "stderr",
     "output_type": "stream",
     "text": [
      "100%|████████████████████████████████████████████████████████████████████████████████| 199/199 [03:43<00:00,  1.12s/it]\n"
     ]
    }
   ],
   "source": [
    "dirs = os.listdir(imgdir)\n",
    "dirs.sort()\n",
    "for d in tqdm(dirs):\n",
    "    if \"jpg\" in d:\n",
    "        continue\n",
    "    if f'{d}.jpg' in dirs:\n",
    "        continue\n",
    "    fd = imgdir + \"/\" + d\n",
    "    imgs = [cv2.resize(cv2.imread(fd + \"/\" + str(i) + \".jpg\"), (1500, 3000)) for i in range(10)] \n",
    "    top = imgs[0]\n",
    "    bot = imgs[5]\n",
    "    for i, img in enumerate(imgs):\n",
    "        if i == 0 or i == 5:\n",
    "            continue\n",
    "        if i < 5:\n",
    "            top = np.concatenate((top, img), axis=1)\n",
    "        else:\n",
    "            bot = np.concatenate((bot, img), axis=1)\n",
    "    total = np.concatenate((top, bot), axis=0)\n",
    "    cv2.imwrite(imgdir + \"/\" + f'{d}.jpg', total)"
   ]
  },
  {
   "cell_type": "code",
   "execution_count": null,
   "id": "2811835e",
   "metadata": {},
   "outputs": [],
   "source": []
  }
 ],
 "metadata": {
  "kernelspec": {
   "display_name": "Python 3",
   "language": "python",
   "name": "python3"
  },
  "language_info": {
   "codemirror_mode": {
    "name": "ipython",
    "version": 3
   },
   "file_extension": ".py",
   "mimetype": "text/x-python",
   "name": "python",
   "nbconvert_exporter": "python",
   "pygments_lexer": "ipython3",
   "version": "3.8.10"
  }
 },
 "nbformat": 4,
 "nbformat_minor": 5
}

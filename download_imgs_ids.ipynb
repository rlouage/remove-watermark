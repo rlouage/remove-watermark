{
 "cells": [
  {
   "cell_type": "code",
   "execution_count": 3,
   "id": "d5411688",
   "metadata": {},
   "outputs": [],
   "source": [
    "import urllib.request\n",
    "import os\n",
    "from tqdm import tqdm\n",
    "import threading\n",
    "import time"
   ]
  },
  {
   "cell_type": "code",
   "execution_count": 4,
   "id": "6b542f2a",
   "metadata": {},
   "outputs": [],
   "source": [
    "trainpath = \"data/train\"\n",
    "testpath = \"data/valid\"\n",
    "tmppath = \"data/tmp\"\n",
    "tmppathvalid = \"data/tmpvalid\""
   ]
  },
  {
   "cell_type": "code",
   "execution_count": 5,
   "id": "4ebe1fbb",
   "metadata": {},
   "outputs": [],
   "source": [
    "files = os.listdir(trainpath)\n",
    "downloaded = os.listdir(tmppath)\n",
    "downloaded = [img[0:-6] + \".jpg\" for img in downloaded]"
   ]
  },
  {
   "cell_type": "code",
   "execution_count": 6,
   "id": "e38a8334",
   "metadata": {},
   "outputs": [],
   "source": [
    "def download_imgs(start, stop, nb):\n",
    "    l = files[start:stop]\n",
    "    for i, img in enumerate(l):\n",
    "        if img in downloaded:\n",
    "            continue\n",
    "        try:\n",
    "            id = img.split(\".\")[0].split(\"_\")[1]\n",
    "            url = f\"https://image.shutterstock.com/shutterstock/photos/{id}/display_1500/test.jpg\"\n",
    "            urllib.request.urlretrieve(url, tmppath + \"/\" + f\"shutterstock_{id}_w.jpg\")\n",
    "        except Exception as e:\n",
    "            print(nb, i, img)\n",
    "        if i%25==0:\n",
    "            print(nb, \"->\", f\"{i}/{stop-start}\")"
   ]
  },
  {
   "cell_type": "code",
   "execution_count": 1,
   "id": "3b2fdb4a",
   "metadata": {},
   "outputs": [
    {
     "data": {
      "text/plain": [
       "'\\nif __name__ == \"__main__\":\\n    # creating thread\\n    parts = 20\\n    total = len(files)\\n    piece = total//parts\\n    ts = []\\n    for i in range(parts):\\n        start = i*piece\\n        end = (i+1)*piece\\n        t = threading.Thread(target=download_imgs, args=(start, end, i, ))\\n        ts.append(t)\\n    for th in ts:\\n        th.start()\\n    while True:\\n        time.sleep(10)\\n'"
      ]
     },
     "execution_count": 1,
     "metadata": {},
     "output_type": "execute_result"
    }
   ],
   "source": [
    "\"\"\"\n",
    "if __name__ == \"__main__\":\n",
    "    # creating thread\n",
    "    parts = 20\n",
    "    total = len(files)\n",
    "    piece = total//parts\n",
    "    ts = []\n",
    "    for i in range(parts):\n",
    "        start = i*piece\n",
    "        end = (i+1)*piece\n",
    "        t = threading.Thread(target=download_imgs, args=(start, end, i, ))\n",
    "        ts.append(t)\n",
    "    for th in ts:\n",
    "        th.start()\n",
    "    while True:\n",
    "        time.sleep(10)\n",
    "\"\"\""
   ]
  },
  {
   "cell_type": "code",
   "execution_count": null,
   "id": "948c1283",
   "metadata": {},
   "outputs": [],
   "source": []
  }
 ],
 "metadata": {
  "kernelspec": {
   "display_name": "Python 3",
   "language": "python",
   "name": "python3"
  },
  "language_info": {
   "codemirror_mode": {
    "name": "ipython",
    "version": 3
   },
   "file_extension": ".py",
   "mimetype": "text/x-python",
   "name": "python",
   "nbconvert_exporter": "python",
   "pygments_lexer": "ipython3",
   "version": "3.8.10"
  }
 },
 "nbformat": 4,
 "nbformat_minor": 5
}

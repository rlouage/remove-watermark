{
 "cells": [
  {
   "cell_type": "code",
   "execution_count": null,
   "id": "052fbcf9",
   "metadata": {},
   "outputs": [],
   "source": [
    "import os\n",
    "import cv2\n",
    "import matplotlib.pyplot as plt\n",
    "from tqdm import tqdm\n",
    "import numpy as np\n",
    "import random\n",
    "import re"
   ]
  },
  {
   "cell_type": "code",
   "execution_count": null,
   "id": "38b8527d",
   "metadata": {},
   "outputs": [],
   "source": [
    "tmppath = \"data/tmp\"\n",
    "tmppathvalid = \"data/tmpvalid\"\n",
    "trainpath = \"data/train\"\n",
    "valpath = \"data/valid\""
   ]
  },
  {
   "cell_type": "code",
   "execution_count": null,
   "id": "ef2bd0e1",
   "metadata": {},
   "outputs": [],
   "source": [
    "# move imgs to tmp folder\n",
    "\"\"\"\n",
    "rawdata = \"raw_data\"\n",
    "for pdir in os.listdir(rawdata):\n",
    "    print(pdir)\n",
    "    fpdir = rawdata + \"/\" + pdir\n",
    "    if os.path.isdir(fpdir):\n",
    "        for sdir in tqdm(os.listdir(fpdir)):\n",
    "            fsdir = fpdir + \"/\" + sdir\n",
    "            for img in os.listdir(fsdir):\n",
    "                fimg = fsdir + \"/\" + img\n",
    "                try:\n",
    "                    os.rename(fimg, tmppath + \"/\" + img)\n",
    "                except Exception as e:\n",
    "                    print(img)\n",
    "\"\"\""
   ]
  },
  {
   "cell_type": "code",
   "execution_count": null,
   "id": "53efd768",
   "metadata": {
    "scrolled": true
   },
   "outputs": [],
   "source": [
    "# split imgs to train and valid folder\n",
    "\"\"\"\n",
    "for i,img in enumerate(os.listdir(tmppath)):\n",
    "    fimg = tmppath + \"/\" + img\n",
    "    rand = random.randint(1,100)\n",
    "    if rand == 55:\n",
    "        os.rename(fimg, valpath + \"/\" + img)\n",
    "    else:\n",
    "        os.rename(fimg, trainpath + \"/\" + img)\n",
    "\"\"\""
   ]
  },
  {
   "cell_type": "code",
   "execution_count": null,
   "id": "4a89105b",
   "metadata": {},
   "outputs": [],
   "source": [
    "# rename images\n",
    "for img in os.listdir(tmppath):\n",
    "    if \"shutterstock\" in img:\n",
    "        continue\n",
    "    if img.split(\".\")[0].isnumeric():\n",
    "        try:\n",
    "            id = img.split(\".\")[0]\n",
    "            #rint(tmppath + \"/\" + img, tmppath + \"/shutterstock_\" + id + \"_w.jpg\")\n",
    "            os.rename(tmppath + \"/\" + img, tmppath + \"/shutterstock_\" + id + \"_w.jpg\")\n",
    "        except Exception as e:\n",
    "            print(img)\n",
    "    else:\n",
    "        try:\n",
    "            id = img.split(\".\")[0].split(\"-\")[-1]\n",
    "            #print(tmppath + \"/\" + img, tmppath + \"/shutterstock_\" + id + \"_w.jpg\")\n",
    "            os.rename(tmppath + \"/\" + img, tmppath + \"/shutterstock_\" + id + \"_w.jpg\")\n",
    "        except Exception as e:\n",
    "            print(img)\n"
   ]
  },
  {
   "cell_type": "code",
   "execution_count": null,
   "id": "6dcf43fb",
   "metadata": {
    "scrolled": false
   },
   "outputs": [],
   "source": [
    "# crop watermark images (train)\n",
    "\"\"\"\n",
    "imgs = os.listdir(tmppath)\n",
    "imgs.sort(key=lambda x: int(x.split(\".\")[0].split(\"_\")[1].split(\"-\")[0]))\n",
    "for f in tqdm(imgs):\n",
    "    if 'w' in f:\n",
    "        img = cv2.imread(tmppath + \"/\" + f)\n",
    "        h,w,d = img.shape\n",
    "        crop_img = img[0:h-100, :]\n",
    "        cv2.imwrite(tmppath + \"/\" + f, crop_img)\n",
    "\"\"\""
   ]
  },
  {
   "cell_type": "code",
   "execution_count": null,
   "id": "e9290805",
   "metadata": {},
   "outputs": [],
   "source": [
    "# crop watermark images (valid)\n",
    "\"\"\"\n",
    "imgs = os.listdir(tmppathvalid)\n",
    "imgs.sort(key=lambda x: int(x.split(\".\")[0].split(\"_\")[1].split(\"-\")[0]))\n",
    "for f in tqdm(imgs):\n",
    "    if 'w' in f:\n",
    "        img = cv2.imread(tmppathvalid + \"/\" + f)\n",
    "        h,w,d = img.shape\n",
    "        crop_img = img[0:h-100, :]\n",
    "        cv2.imwrite(tmppathvalid + \"/\" + f, crop_img)\n",
    "\"\"\""
   ]
  },
  {
   "cell_type": "code",
   "execution_count": null,
   "id": "029edc2f",
   "metadata": {},
   "outputs": [],
   "source": [
    "# check if every image has a watermark img\n",
    "train = os.listdir(trainpath)\n",
    "trainw = os.listdir(tmppath)\n",
    "valid = os.listdir(valpath)\n",
    "validw = os.listdir(tmppathvalid)\n",
    "trainw = [img[0:-6] + \".jpg\" for img in trainw]\n",
    "validw = [img[0:-6] + \".jpg\" for img in validw]"
   ]
  },
  {
   "cell_type": "code",
   "execution_count": null,
   "id": "5b6120e0",
   "metadata": {},
   "outputs": [],
   "source": [
    "# remove images that don't have watermark image\n",
    "delete_train = []\n",
    "for img in train:\n",
    "    if img in trainw:\n",
    "        continue\n",
    "    else:\n",
    "        delete_train.append(img)\n",
    "delete_valid = []\n",
    "for img in valid:\n",
    "    if img in validw:\n",
    "        continue\n",
    "    else:\n",
    "        delete_valid.append(img)\n",
    "\"\"\"\n",
    "for img in delete_valid:\n",
    "    os.remove(valpath + \"/\" + img)\n",
    "for img in delete_train:\n",
    "    os.remove(trainpath + \"/\" + img)\n",
    "\"\"\""
   ]
  },
  {
   "cell_type": "code",
   "execution_count": null,
   "id": "c081e332",
   "metadata": {},
   "outputs": [],
   "source": [
    "# move img to same train or valid folder\n",
    "train = os.listdir(trainpath)\n",
    "valid = os.listdir(valpath)"
   ]
  },
  {
   "cell_type": "code",
   "execution_count": null,
   "id": "144ea654",
   "metadata": {},
   "outputs": [],
   "source": [
    "train.sort(key=lambda x: int(re.search(r'\\d+', x).group(0)))\n",
    "valid.sort(key=lambda x: int(re.search(r'\\d+', x).group(0)))"
   ]
  },
  {
   "cell_type": "code",
   "execution_count": null,
   "id": "97f45de2",
   "metadata": {},
   "outputs": [],
   "source": [
    "\"\"\"\n",
    "pairs = []\n",
    "t = []\n",
    "for img in train:\n",
    "    t.append(img)\n",
    "    if len(t) == 2:\n",
    "        assert(int(re.search(r'\\d+', t[0]).group(0)) == int(re.search(r'\\d+', t[1]).group(0)))\n",
    "        pairs.append(tuple(t))\n",
    "        t.clear()\n",
    "    \n",
    "for n,w in tqdm(pairs):\n",
    "    try:\n",
    "        w_img = cv2.imread(trainpath + \"/\" + w)\n",
    "        n_img = cv2.imread(trainpath + \"/\" + n)\n",
    "        res_w = w_img.shape[0] * w_img.shape[1]\n",
    "        res_n = n_img.shape[0] * n_img.shape[1]\n",
    "        if res_w == res_n:\n",
    "            continue\n",
    "        if res_n < res_w:\n",
    "            w_img = cv2.resize(w_img, (n_img.shape[1], n_img.shape[0]), interpolation=cv2.INTER_CUBIC)\n",
    "            cv2.imwrite(trainpath + \"/\" + w, w_img)\n",
    "        else:\n",
    "            n_img = cv2.resize(n_img, (w_img.shape[1], w_img.shape[0]), interpolation=cv2.INTER_CUBIC)\n",
    "            cv2.imwrite(trainpath + \"/\" + n, n_img)\n",
    "        assert(w_img.shape == n_img.shape)\n",
    "    except Exception as e:\n",
    "        print(n,w)\n",
    "        print(e)\n",
    "\"\"\""
   ]
  },
  {
   "cell_type": "code",
   "execution_count": null,
   "id": "b6ed138f",
   "metadata": {},
   "outputs": [],
   "source": [
    "# remove pairs that are smaller than 256 square pixels\n",
    "pairs = []\n",
    "t = []\n",
    "for img in train:\n",
    "    t.append(img)\n",
    "    if len(t) == 2:\n",
    "        assert(int(re.search(r'\\d+', t[0]).group(0)) == int(re.search(r'\\d+', t[1]).group(0)))\n",
    "        pairs.append(tuple(t))\n",
    "        t.clear()\n",
    "    \n",
    "for n,w in tqdm(pairs):\n",
    "    try:\n",
    "        w_img = cv2.imread(trainpath + \"/\" + w)\n",
    "        n_img = cv2.imread(trainpath + \"/\" + n)\n",
    "        h1,w1,_ = w_img.shape\n",
    "        h2,w2,_ = n_img.shape\n",
    "        if h1 < 256 or h2 < 256 or w1 < 256 or w2 < 256:\n",
    "            print(n,w)\n",
    "    except Exception as e:\n",
    "        print(n,w)\n",
    "        print(e)"
   ]
  }
 ],
 "metadata": {
  "kernelspec": {
   "display_name": "Python 3",
   "language": "python",
   "name": "python3"
  },
  "language_info": {
   "codemirror_mode": {
    "name": "ipython",
    "version": 3
   },
   "file_extension": ".py",
   "mimetype": "text/x-python",
   "name": "python",
   "nbconvert_exporter": "python",
   "pygments_lexer": "ipython3",
   "version": "3.8.10"
  }
 },
 "nbformat": 4,
 "nbformat_minor": 5
}
